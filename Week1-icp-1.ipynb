{
 "cells": [
  {
   "cell_type": "markdown",
   "id": "9a6df01e-c756-492e-b7de-b5ee024018b1",
   "metadata": {},
   "source": [
    "# ICP Week 01\n",
    "\n",
    "# Shambhavi Mishra\n",
    "\n",
    "This is the First In Class Practice Assignment"
   ]
  },
  {
   "cell_type": "markdown",
   "id": "f82729c0-8443-404d-9a78-84cd374f8634",
   "metadata": {
    "tags": []
   },
   "source": [
    "## Introduction\n",
    "\n",
    "![](105080.jpg)\n",
    "\n",
    "Name : Shambhavi Mishra\n",
    "\n",
    "    Brief Bio : I am a graduate student at Muma College of Business, pursuing my Masters in Business Analytics & Information Systems. "
   ]
  },
  {
   "cell_type": "code",
   "execution_count": 4,
   "id": "4709660a-ab5b-426d-899f-e286fa0ff766",
   "metadata": {},
   "outputs": [
    {
     "name": "stdout",
     "output_type": "stream",
     "text": [
      "Hello World\n"
     ]
    }
   ],
   "source": [
    "print(\"Hello World\")"
   ]
  },
  {
   "cell_type": "code",
   "execution_count": null,
   "id": "3ab76b35-85fa-4ed4-914b-b63a23ae18e2",
   "metadata": {},
   "outputs": [],
   "source": []
  }
 ],
 "metadata": {
  "kernelspec": {
   "display_name": "Python 3 (ipykernel)",
   "language": "python",
   "name": "python3"
  },
  "language_info": {
   "codemirror_mode": {
    "name": "ipython",
    "version": 3
   },
   "file_extension": ".py",
   "mimetype": "text/x-python",
   "name": "python",
   "nbconvert_exporter": "python",
   "pygments_lexer": "ipython3",
   "version": "3.9.12"
  }
 },
 "nbformat": 4,
 "nbformat_minor": 5
}
