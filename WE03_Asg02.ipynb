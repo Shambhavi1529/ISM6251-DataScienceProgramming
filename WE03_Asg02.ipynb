{
 "cells": [
  {
   "cell_type": "code",
   "execution_count": 6,
   "id": "69ff6f99-c2e1-4feb-9ebb-25820f205b3c",
   "metadata": {},
   "outputs": [
    {
     "name": "stdout",
     "output_type": "stream",
     "text": [
      "\n",
      "*******************\n",
      "* ridingmower Ownership Prediction Model *\n",
      "*******************\n",
      "\n"
     ]
    },
    {
     "name": "stdin",
     "output_type": "stream",
     "text": [
      "Enter the Income:  97\n",
      "Enter the Lotsize:  15.7\n"
     ]
    },
    {
     "name": "stdout",
     "output_type": "stream",
     "text": [
      "\n",
      "The SVM Ridingmower Ownership Predective Model pridicts the probability of 0.5605, thus, indicating it is NonOwner.\n",
      "\n"
     ]
    }
   ],
   "source": [
    "import pandas as pd\n",
    "import numpy as np\n",
    "import matplotlib.pyplot as plt\n",
    "from sklearn.metrics import confusion_matrix\n",
    "\n",
    "import pickle\n",
    "\n",
    "\n",
    "ridingmower_model = pickle.load(open(\"/Users/shambhavimishra/Downloads/DSP/pickle.csv\", \"rb\"))\n",
    "\n",
    "print(\"\\n*******************\")\n",
    "print(\"* ridingmower Ownership Prediction Model *\")\n",
    "print(\"*******************\\n\")\n",
    "Income = float(input(\"Enter the Income: \"))\n",
    "Lot_Size= float(input(\"Enter the Lotsize: \"))\n",
    "df = pd.DataFrame({'Income': [Income], 'Lot_Size': [Lot_Size]})\n",
    "result = ridingmower_model.predict(df)\n",
    "probability = ridingmower_model.predict_proba(df)\n",
    "Ownership = ('Owner', 'NonOwner')\n",
    "print(f\"\\nThe SVM Ridingmower Ownership Predective Model pridicts the probability of {probability[0][1]:.4f}, thus, indicating it is {Ownership[result[0]]}.\\n\")"
   ]
  }
 ],
 "metadata": {
  "kernelspec": {
   "display_name": "Python 3 (ipykernel)",
   "language": "python",
   "name": "python3"
  },
  "language_info": {
   "codemirror_mode": {
    "name": "ipython",
    "version": 3
   },
   "file_extension": ".py",
   "mimetype": "text/x-python",
   "name": "python",
   "nbconvert_exporter": "python",
   "pygments_lexer": "ipython3",
   "version": "3.9.12"
  }
 },
 "nbformat": 4,
 "nbformat_minor": 5
}
